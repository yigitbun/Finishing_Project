{
 "cells": [
  {
   "cell_type": "code",
   "execution_count": 1,
   "id": "941cdfd7",
   "metadata": {},
   "outputs": [],
   "source": [
    "import textblob\n",
    "import pandas as pd\n",
    "import numpy as np\n",
    "from textblob_de import TextBlobDE\n",
    "import matplotlib.pyplot as plt\n",
    "import random"
   ]
  },
  {
   "cell_type": "code",
   "execution_count": 2,
   "id": "54486822",
   "metadata": {},
   "outputs": [],
   "source": [
    "df = pd.read_csv('kbClean.csv')"
   ]
  },
  {
   "cell_type": "code",
   "execution_count": 4,
   "id": "2f781cab",
   "metadata": {},
   "outputs": [
    {
     "name": "stdout",
     "output_type": "stream",
     "text": [
      "<class 'pandas.core.frame.DataFrame'>\n",
      "RangeIndex: 3304 entries, 0 to 3303\n",
      "Data columns (total 8 columns):\n",
      " #   Column             Non-Null Count  Dtype  \n",
      "---  ------             --------------  -----  \n",
      " 0   Unnamed: 0         3304 non-null   int64  \n",
      " 1   NameKlinik         3304 non-null   object \n",
      " 2   Erfahrungsbericht  3304 non-null   object \n",
      " 3   Gesamt             3304 non-null   float64\n",
      " 4   QualBeratung       3304 non-null   float64\n",
      " 5   MedBehandlung      3304 non-null   float64\n",
      " 6   VerwalAblaeufe     3304 non-null   float64\n",
      " 7   Zufriedenheit      3304 non-null   object \n",
      "dtypes: float64(4), int64(1), object(3)\n",
      "memory usage: 206.6+ KB\n"
     ]
    }
   ],
   "source": [
    "df.info()"
   ]
  },
  {
   "cell_type": "code",
   "execution_count": 9,
   "id": "433201b7",
   "metadata": {},
   "outputs": [
    {
     "data": {
      "text/html": [
       "<div>\n",
       "<style scoped>\n",
       "    .dataframe tbody tr th:only-of-type {\n",
       "        vertical-align: middle;\n",
       "    }\n",
       "\n",
       "    .dataframe tbody tr th {\n",
       "        vertical-align: top;\n",
       "    }\n",
       "\n",
       "    .dataframe thead th {\n",
       "        text-align: right;\n",
       "    }\n",
       "</style>\n",
       "<table border=\"1\" class=\"dataframe\">\n",
       "  <thead>\n",
       "    <tr style=\"text-align: right;\">\n",
       "      <th></th>\n",
       "      <th>Unnamed: 0</th>\n",
       "      <th>NameKlinik</th>\n",
       "      <th>Erfahrungsbericht</th>\n",
       "      <th>Gesamt</th>\n",
       "      <th>QualBeratung</th>\n",
       "      <th>MedBehandlung</th>\n",
       "      <th>VerwalAblaeufe</th>\n",
       "      <th>Zufriedenheit</th>\n",
       "    </tr>\n",
       "  </thead>\n",
       "  <tbody>\n",
       "    <tr>\n",
       "      <th>0</th>\n",
       "      <td>0</td>\n",
       "      <td>HEH Herzogin Elisabeth Hospital</td>\n",
       "      <td>Sehr höfliche und hilfsbereite Mitarbeiter.  S...</td>\n",
       "      <td>5.0</td>\n",
       "      <td>5.0</td>\n",
       "      <td>5.0</td>\n",
       "      <td>5.0</td>\n",
       "      <td>pos</td>\n",
       "    </tr>\n",
       "    <tr>\n",
       "      <th>1</th>\n",
       "      <td>1</td>\n",
       "      <td>HEH Herzogin Elisabeth Hospital</td>\n",
       "      <td>Kann ich nur weiterempfehlen!! Sehr gutes Pfle...</td>\n",
       "      <td>5.0</td>\n",
       "      <td>3.7</td>\n",
       "      <td>5.0</td>\n",
       "      <td>3.7</td>\n",
       "      <td>pos</td>\n",
       "    </tr>\n",
       "    <tr>\n",
       "      <th>2</th>\n",
       "      <td>2</td>\n",
       "      <td>HEH Herzogin Elisabeth Hospital</td>\n",
       "      <td>Bestens durchorganisiert.gutes Personal geht i...</td>\n",
       "      <td>5.0</td>\n",
       "      <td>5.0</td>\n",
       "      <td>5.0</td>\n",
       "      <td>5.0</td>\n",
       "      <td>pos</td>\n",
       "    </tr>\n",
       "    <tr>\n",
       "      <th>3</th>\n",
       "      <td>3</td>\n",
       "      <td>HEH Herzogin Elisabeth Hospital</td>\n",
       "      <td>Bin nach einem Autounfall im HEH gewesen und h...</td>\n",
       "      <td>5.0</td>\n",
       "      <td>5.0</td>\n",
       "      <td>5.0</td>\n",
       "      <td>5.0</td>\n",
       "      <td>pos</td>\n",
       "    </tr>\n",
       "    <tr>\n",
       "      <th>4</th>\n",
       "      <td>4</td>\n",
       "      <td>HEH Herzogin Elisabeth Hospital</td>\n",
       "      <td>Wurde bereits im Sept. 2020 am Knie operiert. ...</td>\n",
       "      <td>5.0</td>\n",
       "      <td>5.0</td>\n",
       "      <td>5.0</td>\n",
       "      <td>5.0</td>\n",
       "      <td>pos</td>\n",
       "    </tr>\n",
       "  </tbody>\n",
       "</table>\n",
       "</div>"
      ],
      "text/plain": [
       "   Unnamed: 0                       NameKlinik  \\\n",
       "0           0  HEH Herzogin Elisabeth Hospital   \n",
       "1           1  HEH Herzogin Elisabeth Hospital   \n",
       "2           2  HEH Herzogin Elisabeth Hospital   \n",
       "3           3  HEH Herzogin Elisabeth Hospital   \n",
       "4           4  HEH Herzogin Elisabeth Hospital   \n",
       "\n",
       "                                   Erfahrungsbericht  Gesamt  QualBeratung  \\\n",
       "0  Sehr höfliche und hilfsbereite Mitarbeiter.  S...     5.0           5.0   \n",
       "1  Kann ich nur weiterempfehlen!! Sehr gutes Pfle...     5.0           3.7   \n",
       "2  Bestens durchorganisiert.gutes Personal geht i...     5.0           5.0   \n",
       "3  Bin nach einem Autounfall im HEH gewesen und h...     5.0           5.0   \n",
       "4  Wurde bereits im Sept. 2020 am Knie operiert. ...     5.0           5.0   \n",
       "\n",
       "   MedBehandlung  VerwalAblaeufe Zufriedenheit  \n",
       "0            5.0             5.0           pos  \n",
       "1            5.0             3.7           pos  \n",
       "2            5.0             5.0           pos  \n",
       "3            5.0             5.0           pos  \n",
       "4            5.0             5.0           pos  "
      ]
     },
     "execution_count": 9,
     "metadata": {},
     "output_type": "execute_result"
    }
   ],
   "source": [
    "df.head()"
   ]
  },
  {
   "cell_type": "code",
   "execution_count": null,
   "id": "60a18ece",
   "metadata": {},
   "outputs": [],
   "source": []
  },
  {
   "cell_type": "code",
   "execution_count": null,
   "id": "b672cc01",
   "metadata": {},
   "outputs": [],
   "source": []
  }
 ],
 "metadata": {
  "kernelspec": {
   "display_name": "Python 3",
   "language": "python",
   "name": "python3"
  },
  "language_info": {
   "codemirror_mode": {
    "name": "ipython",
    "version": 3
   },
   "file_extension": ".py",
   "mimetype": "text/x-python",
   "name": "python",
   "nbconvert_exporter": "python",
   "pygments_lexer": "ipython3",
   "version": "3.8.8"
  }
 },
 "nbformat": 4,
 "nbformat_minor": 5
}
