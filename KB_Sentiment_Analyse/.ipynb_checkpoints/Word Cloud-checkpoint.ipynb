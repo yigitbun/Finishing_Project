{
 "cells": [
  {
   "cell_type": "code",
   "execution_count": 1,
   "id": "bed9fc39",
   "metadata": {
    "scrolled": false
   },
   "outputs": [],
   "source": [
    "# conda install -c https://conda.anaconda.org/conda-forge wordcloud"
   ]
  },
  {
   "cell_type": "code",
   "execution_count": 2,
   "id": "840b0853",
   "metadata": {},
   "outputs": [],
   "source": [
    "import numpy as np\n",
    "import pandas as pd\n",
    "from os import path\n",
    "from PIL import Image\n",
    "from wordcloud import WordCloud, STOPWORDS, ImageColorGenerator\n",
    "\n",
    "import matplotlib.pyplot as plt"
   ]
  },
  {
   "cell_type": "code",
   "execution_count": 3,
   "id": "52823578",
   "metadata": {},
   "outputs": [],
   "source": [
    "df = pd.read_csv(\"kbClean.csv\", index_col=0)"
   ]
  },
  {
   "cell_type": "code",
   "execution_count": 4,
   "id": "909f5406",
   "metadata": {},
   "outputs": [
    {
     "data": {
      "text/html": [
       "<div>\n",
       "<style scoped>\n",
       "    .dataframe tbody tr th:only-of-type {\n",
       "        vertical-align: middle;\n",
       "    }\n",
       "\n",
       "    .dataframe tbody tr th {\n",
       "        vertical-align: top;\n",
       "    }\n",
       "\n",
       "    .dataframe thead th {\n",
       "        text-align: right;\n",
       "    }\n",
       "</style>\n",
       "<table border=\"1\" class=\"dataframe\">\n",
       "  <thead>\n",
       "    <tr style=\"text-align: right;\">\n",
       "      <th></th>\n",
       "      <th>NameKlinik</th>\n",
       "      <th>Erfahrungsbericht</th>\n",
       "      <th>Gesamt</th>\n",
       "      <th>QualBeratung</th>\n",
       "      <th>MedBehandlung</th>\n",
       "      <th>VerwalAblaeufe</th>\n",
       "      <th>Zufriedenheit</th>\n",
       "      <th>ist_zufrieden</th>\n",
       "      <th>Polarity Level</th>\n",
       "      <th>Polarity Stimmung</th>\n",
       "    </tr>\n",
       "  </thead>\n",
       "  <tbody>\n",
       "    <tr>\n",
       "      <th>0</th>\n",
       "      <td>HEH Herzogin Elisabeth Hospital</td>\n",
       "      <td>Sehr höfliche und hilfsbereite Mitarbeiter.  S...</td>\n",
       "      <td>5.0</td>\n",
       "      <td>5.0</td>\n",
       "      <td>5.0</td>\n",
       "      <td>5.0</td>\n",
       "      <td>pos</td>\n",
       "      <td>1</td>\n",
       "      <td>0.462500</td>\n",
       "      <td>pos</td>\n",
       "    </tr>\n",
       "    <tr>\n",
       "      <th>1</th>\n",
       "      <td>HEH Herzogin Elisabeth Hospital</td>\n",
       "      <td>Kann ich nur weiterempfehlen!! Sehr gutes Pfle...</td>\n",
       "      <td>5.0</td>\n",
       "      <td>3.7</td>\n",
       "      <td>5.0</td>\n",
       "      <td>3.7</td>\n",
       "      <td>pos</td>\n",
       "      <td>1</td>\n",
       "      <td>0.000000</td>\n",
       "      <td>neg</td>\n",
       "    </tr>\n",
       "    <tr>\n",
       "      <th>2</th>\n",
       "      <td>HEH Herzogin Elisabeth Hospital</td>\n",
       "      <td>Bestens durchorganisiert.gutes Personal geht i...</td>\n",
       "      <td>5.0</td>\n",
       "      <td>5.0</td>\n",
       "      <td>5.0</td>\n",
       "      <td>5.0</td>\n",
       "      <td>pos</td>\n",
       "      <td>1</td>\n",
       "      <td>0.000000</td>\n",
       "      <td>neg</td>\n",
       "    </tr>\n",
       "    <tr>\n",
       "      <th>3</th>\n",
       "      <td>HEH Herzogin Elisabeth Hospital</td>\n",
       "      <td>Bin nach einem Autounfall im HEH gewesen und h...</td>\n",
       "      <td>5.0</td>\n",
       "      <td>5.0</td>\n",
       "      <td>5.0</td>\n",
       "      <td>5.0</td>\n",
       "      <td>pos</td>\n",
       "      <td>1</td>\n",
       "      <td>0.340000</td>\n",
       "      <td>pos</td>\n",
       "    </tr>\n",
       "    <tr>\n",
       "      <th>4</th>\n",
       "      <td>HEH Herzogin Elisabeth Hospital</td>\n",
       "      <td>Wurde bereits im Sept. 2020 am Knie operiert. ...</td>\n",
       "      <td>5.0</td>\n",
       "      <td>5.0</td>\n",
       "      <td>5.0</td>\n",
       "      <td>5.0</td>\n",
       "      <td>pos</td>\n",
       "      <td>1</td>\n",
       "      <td>0.242857</td>\n",
       "      <td>pos</td>\n",
       "    </tr>\n",
       "  </tbody>\n",
       "</table>\n",
       "</div>"
      ],
      "text/plain": [
       "                        NameKlinik  \\\n",
       "0  HEH Herzogin Elisabeth Hospital   \n",
       "1  HEH Herzogin Elisabeth Hospital   \n",
       "2  HEH Herzogin Elisabeth Hospital   \n",
       "3  HEH Herzogin Elisabeth Hospital   \n",
       "4  HEH Herzogin Elisabeth Hospital   \n",
       "\n",
       "                                   Erfahrungsbericht  Gesamt  QualBeratung  \\\n",
       "0  Sehr höfliche und hilfsbereite Mitarbeiter.  S...     5.0           5.0   \n",
       "1  Kann ich nur weiterempfehlen!! Sehr gutes Pfle...     5.0           3.7   \n",
       "2  Bestens durchorganisiert.gutes Personal geht i...     5.0           5.0   \n",
       "3  Bin nach einem Autounfall im HEH gewesen und h...     5.0           5.0   \n",
       "4  Wurde bereits im Sept. 2020 am Knie operiert. ...     5.0           5.0   \n",
       "\n",
       "   MedBehandlung  VerwalAblaeufe Zufriedenheit  ist_zufrieden  Polarity Level  \\\n",
       "0            5.0             5.0           pos              1        0.462500   \n",
       "1            5.0             3.7           pos              1        0.000000   \n",
       "2            5.0             5.0           pos              1        0.000000   \n",
       "3            5.0             5.0           pos              1        0.340000   \n",
       "4            5.0             5.0           pos              1        0.242857   \n",
       "\n",
       "  Polarity Stimmung  \n",
       "0               pos  \n",
       "1               neg  \n",
       "2               neg  \n",
       "3               pos  \n",
       "4               pos  "
      ]
     },
     "execution_count": 4,
     "metadata": {},
     "output_type": "execute_result"
    }
   ],
   "source": [
    "df.head()"
   ]
  },
  {
   "cell_type": "code",
   "execution_count": null,
   "id": "169d1bba",
   "metadata": {
    "deletable": false,
    "editable": false,
    "run_control": {
     "frozen": true
    }
   },
   "outputs": [],
   "source": [
    "print(\"There are {} observations and {} features in this dataset. \\n\".format(df.shape[0],df.shape[1]))\n",
    "\n",
    "print(\"There are {} types of wine in this dataset such as {}... \\n\".format(len(df.variety.unique()),\n",
    "                                                                           \", \".join(df.variety.unique()[0:5])))\n",
    "\n",
    "print(\"There are {} countries producing wine in this dataset such as {}... \\n\".format(len(df.country.unique()),\n",
    "                                                                                      \", \".join(df.country.unique()[0:5])))"
   ]
  }
 ],
 "metadata": {
  "kernelspec": {
   "display_name": "Python 3",
   "language": "python",
   "name": "python3"
  },
  "language_info": {
   "codemirror_mode": {
    "name": "ipython",
    "version": 3
   },
   "file_extension": ".py",
   "mimetype": "text/x-python",
   "name": "python",
   "nbconvert_exporter": "python",
   "pygments_lexer": "ipython3",
   "version": "3.8.8"
  }
 },
 "nbformat": 4,
 "nbformat_minor": 5
}
