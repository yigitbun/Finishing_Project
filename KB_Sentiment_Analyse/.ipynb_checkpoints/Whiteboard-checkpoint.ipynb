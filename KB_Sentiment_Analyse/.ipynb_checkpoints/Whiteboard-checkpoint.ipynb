{
 "cells": [
  {
   "cell_type": "code",
   "execution_count": 83,
   "id": "b75494b5",
   "metadata": {},
   "outputs": [],
   "source": [
    "import pandas as pd\n",
    "import numpy as np\n",
    "import matplotlib.pyplot as plt\n",
    "from wordcloud import WordCloud, STOPWORDS\n",
    "from nltk.corpus import stopwords"
   ]
  },
  {
   "cell_type": "code",
   "execution_count": 2,
   "id": "3618974e",
   "metadata": {},
   "outputs": [],
   "source": [
    "df = pd.read_csv('kbClean.csv')"
   ]
  },
  {
   "cell_type": "code",
   "execution_count": 4,
   "id": "048094e9",
   "metadata": {
    "scrolled": true
   },
   "outputs": [
    {
     "data": {
      "text/html": [
       "<div>\n",
       "<style scoped>\n",
       "    .dataframe tbody tr th:only-of-type {\n",
       "        vertical-align: middle;\n",
       "    }\n",
       "\n",
       "    .dataframe tbody tr th {\n",
       "        vertical-align: top;\n",
       "    }\n",
       "\n",
       "    .dataframe thead th {\n",
       "        text-align: right;\n",
       "    }\n",
       "</style>\n",
       "<table border=\"1\" class=\"dataframe\">\n",
       "  <thead>\n",
       "    <tr style=\"text-align: right;\">\n",
       "      <th></th>\n",
       "      <th>NameKlinik</th>\n",
       "      <th>Erfahrungsbericht</th>\n",
       "      <th>Gesamt</th>\n",
       "      <th>QualBeratung</th>\n",
       "      <th>MedBehandlung</th>\n",
       "      <th>VerwalAblaeufe</th>\n",
       "      <th>Zufriedenheit</th>\n",
       "      <th>ist_zufrieden</th>\n",
       "      <th>Polarity Level</th>\n",
       "      <th>Polarity Stimmung</th>\n",
       "    </tr>\n",
       "  </thead>\n",
       "  <tbody>\n",
       "    <tr>\n",
       "      <th>0</th>\n",
       "      <td>HEH Herzogin Elisabeth Hospital</td>\n",
       "      <td>Sehr höfliche und hilfsbereite Mitarbeiter.  S...</td>\n",
       "      <td>5.0</td>\n",
       "      <td>5.0</td>\n",
       "      <td>5.0</td>\n",
       "      <td>5.0</td>\n",
       "      <td>pos</td>\n",
       "      <td>1</td>\n",
       "      <td>0.462500</td>\n",
       "      <td>pos</td>\n",
       "    </tr>\n",
       "    <tr>\n",
       "      <th>1</th>\n",
       "      <td>HEH Herzogin Elisabeth Hospital</td>\n",
       "      <td>Kann ich nur weiterempfehlen!! Sehr gutes Pfle...</td>\n",
       "      <td>5.0</td>\n",
       "      <td>3.7</td>\n",
       "      <td>5.0</td>\n",
       "      <td>3.7</td>\n",
       "      <td>pos</td>\n",
       "      <td>1</td>\n",
       "      <td>0.000000</td>\n",
       "      <td>neg</td>\n",
       "    </tr>\n",
       "    <tr>\n",
       "      <th>2</th>\n",
       "      <td>HEH Herzogin Elisabeth Hospital</td>\n",
       "      <td>Bestens durchorganisiert.gutes Personal geht i...</td>\n",
       "      <td>5.0</td>\n",
       "      <td>5.0</td>\n",
       "      <td>5.0</td>\n",
       "      <td>5.0</td>\n",
       "      <td>pos</td>\n",
       "      <td>1</td>\n",
       "      <td>0.000000</td>\n",
       "      <td>neg</td>\n",
       "    </tr>\n",
       "    <tr>\n",
       "      <th>3</th>\n",
       "      <td>HEH Herzogin Elisabeth Hospital</td>\n",
       "      <td>Bin nach einem Autounfall im HEH gewesen und h...</td>\n",
       "      <td>5.0</td>\n",
       "      <td>5.0</td>\n",
       "      <td>5.0</td>\n",
       "      <td>5.0</td>\n",
       "      <td>pos</td>\n",
       "      <td>1</td>\n",
       "      <td>0.340000</td>\n",
       "      <td>pos</td>\n",
       "    </tr>\n",
       "    <tr>\n",
       "      <th>4</th>\n",
       "      <td>HEH Herzogin Elisabeth Hospital</td>\n",
       "      <td>Wurde bereits im Sept. 2020 am Knie operiert. ...</td>\n",
       "      <td>5.0</td>\n",
       "      <td>5.0</td>\n",
       "      <td>5.0</td>\n",
       "      <td>5.0</td>\n",
       "      <td>pos</td>\n",
       "      <td>1</td>\n",
       "      <td>0.242857</td>\n",
       "      <td>pos</td>\n",
       "    </tr>\n",
       "  </tbody>\n",
       "</table>\n",
       "</div>"
      ],
      "text/plain": [
       "                        NameKlinik  \\\n",
       "0  HEH Herzogin Elisabeth Hospital   \n",
       "1  HEH Herzogin Elisabeth Hospital   \n",
       "2  HEH Herzogin Elisabeth Hospital   \n",
       "3  HEH Herzogin Elisabeth Hospital   \n",
       "4  HEH Herzogin Elisabeth Hospital   \n",
       "\n",
       "                                   Erfahrungsbericht  Gesamt  QualBeratung  \\\n",
       "0  Sehr höfliche und hilfsbereite Mitarbeiter.  S...     5.0           5.0   \n",
       "1  Kann ich nur weiterempfehlen!! Sehr gutes Pfle...     5.0           3.7   \n",
       "2  Bestens durchorganisiert.gutes Personal geht i...     5.0           5.0   \n",
       "3  Bin nach einem Autounfall im HEH gewesen und h...     5.0           5.0   \n",
       "4  Wurde bereits im Sept. 2020 am Knie operiert. ...     5.0           5.0   \n",
       "\n",
       "   MedBehandlung  VerwalAblaeufe Zufriedenheit  ist_zufrieden  Polarity Level  \\\n",
       "0            5.0             5.0           pos              1        0.462500   \n",
       "1            5.0             3.7           pos              1        0.000000   \n",
       "2            5.0             5.0           pos              1        0.000000   \n",
       "3            5.0             5.0           pos              1        0.340000   \n",
       "4            5.0             5.0           pos              1        0.242857   \n",
       "\n",
       "  Polarity Stimmung  \n",
       "0               pos  \n",
       "1               neg  \n",
       "2               neg  \n",
       "3               pos  \n",
       "4               pos  "
      ]
     },
     "execution_count": 4,
     "metadata": {},
     "output_type": "execute_result"
    }
   ],
   "source": [
    "df.head()"
   ]
  },
  {
   "cell_type": "code",
   "execution_count": 66,
   "id": "b46c91a0",
   "metadata": {},
   "outputs": [],
   "source": [
    "kb_stars = df[['NameKlinik', 'Gesamt', 'Zufriedenheit']]\n",
    "kb_means = kb_stars.groupby(['NameKlinik'], as_index=False)['Gesamt'].mean()\n",
    "kb_means = kb_means.sort_values('Gesamt',ascending=False, ignore_index=True)\n",
    "vergleich_list = kb_means['Gesamt'].to_list()"
   ]
  },
  {
   "cell_type": "code",
   "execution_count": 73,
   "id": "b4f5c600",
   "metadata": {},
   "outputs": [],
   "source": [
    "vergleich_klinikname = kb_means['NameKlinik'].to_list()"
   ]
  },
  {
   "cell_type": "code",
   "execution_count": 72,
   "id": "03dc8d55",
   "metadata": {},
   "outputs": [
    {
     "data": {
      "text/plain": [
       "[4.654545454545455,\n",
       " 4.375510204081633,\n",
       " 4.180769230769231,\n",
       " 4.118536585365854,\n",
       " 4.002272727272726,\n",
       " 3.966666666666667,\n",
       " 3.836111111111111,\n",
       " 3.7371165644171804,\n",
       " 3.717073170731706,\n",
       " 3.526344086021506,\n",
       " 3.4937931034482754,\n",
       " 3.4578947368421056,\n",
       " 3.4066390041493784,\n",
       " 3.3860465116279075,\n",
       " 3.323706896551724,\n",
       " 3.2615999999999996,\n",
       " 3.2222222222222228,\n",
       " 3.183064516129032,\n",
       " 2.974038461538461,\n",
       " 2.945762711864406,\n",
       " 2.8430894308943087,\n",
       " 2.8295238095238093,\n",
       " 2.3818713450292393,\n",
       " 2.231372549019608]"
      ]
     },
     "execution_count": 72,
     "metadata": {},
     "output_type": "execute_result"
    }
   ],
   "source": [
    "vergleich_list"
   ]
  },
  {
   "cell_type": "code",
   "execution_count": 74,
   "id": "e2619ac7",
   "metadata": {},
   "outputs": [
    {
     "data": {
      "text/plain": [
       "['Klinik Am Zuckerberg',\n",
       " 'Eilenriede Klinik Hannover',\n",
       " 'HEH Herzogin Elisabeth Hospital',\n",
       " 'Klinik Fallingbostel',\n",
       " 'Kreiskrankenhaus Osterholz',\n",
       " 'Krankenhaus St. Martini',\n",
       " 'AMEOS Klinikum Seepark Geestland',\n",
       " 'Diana Klinik-Fachklinik für Physikalische Medizin',\n",
       " 'Elbe Kliniken Stade - Buxtehude, Standort Buxtehude',\n",
       " 'MediClin Klinikum Soltau',\n",
       " 'Klinikum Peine gGmbH',\n",
       " 'Sophienklinik GmbH',\n",
       " 'DIAKOVERE Henriettenstift',\n",
       " 'Kreiskrankenhaus Winsen',\n",
       " 'Klinikum Wolfsburg',\n",
       " 'HELIOS Klinik Cuxhaven',\n",
       " 'Agaplesion - Diakonieklinikum Rotenburg',\n",
       " 'Helios Kliniken Mittelweser - Krankenhaus Nienburg',\n",
       " 'Heidekreis-Klinikum GmbH - Krankenhaus Walsrode',\n",
       " 'KRH Klinikum Agness Karll Laatzen',\n",
       " 'Kreiskrankenhaus Buchholz',\n",
       " 'Klinikum Wahrendorff',\n",
       " 'AMEOS Klinikum Hildesheim',\n",
       " 'Psychiatrische Klinik Lüneburg']"
      ]
     },
     "execution_count": 74,
     "metadata": {},
     "output_type": "execute_result"
    }
   ],
   "source": [
    "vergleich_klinikname"
   ]
  },
  {
   "cell_type": "code",
   "execution_count": 37,
   "id": "cd11a533",
   "metadata": {},
   "outputs": [],
   "source": [
    "dizi = df.groupby('NameKlinik')['Gesamt'].size()"
   ]
  },
  {
   "cell_type": "code",
   "execution_count": 41,
   "id": "7cd0560c",
   "metadata": {},
   "outputs": [
    {
     "data": {
      "text/plain": [
       "NameKlinik\n",
       "AMEOS Klinikum Hildesheim                              171\n",
       "AMEOS Klinikum Seepark Geestland                       144\n",
       "Agaplesion - Diakonieklinikum Rotenburg                297\n",
       "DIAKOVERE Henriettenstift                              241\n",
       "Diana Klinik-Fachklinik für Physikalische Medizin      326\n",
       "Eilenriede Klinik Hannover                              49\n",
       "Elbe Kliniken Stade - Buxtehude, Standort Buxtehude     82\n",
       "HEH Herzogin Elisabeth Hospital                        130\n",
       "HELIOS Klinik Cuxhaven                                 125\n",
       "Heidekreis-Klinikum GmbH - Krankenhaus Walsrode        104\n",
       "Helios Kliniken Mittelweser - Krankenhaus Nienburg     124\n",
       "KRH Klinikum Agness Karll Laatzen                      118\n",
       "Klinik Am Zuckerberg                                    77\n",
       "Klinik Fallingbostel                                   205\n",
       "Klinikum Peine gGmbH                                   145\n",
       "Klinikum Wahrendorff                                   105\n",
       "Klinikum Wolfsburg                                     232\n",
       "Krankenhaus St. Martini                                 63\n",
       "Kreiskrankenhaus Buchholz                              123\n",
       "Kreiskrankenhaus Osterholz                              44\n",
       "Kreiskrankenhaus Winsen                                 86\n",
       "MediClin Klinikum Soltau                               186\n",
       "Psychiatrische Klinik Lüneburg                          51\n",
       "Sophienklinik GmbH                                      76\n",
       "Name: Gesamt, dtype: int64"
      ]
     },
     "execution_count": 41,
     "metadata": {},
     "output_type": "execute_result"
    }
   ],
   "source": [
    "dizi"
   ]
  },
  {
   "cell_type": "code",
   "execution_count": 7,
   "id": "b23e754b",
   "metadata": {},
   "outputs": [
    {
     "data": {
      "text/html": [
       "<div>\n",
       "<style scoped>\n",
       "    .dataframe tbody tr th:only-of-type {\n",
       "        vertical-align: middle;\n",
       "    }\n",
       "\n",
       "    .dataframe tbody tr th {\n",
       "        vertical-align: top;\n",
       "    }\n",
       "\n",
       "    .dataframe thead th {\n",
       "        text-align: right;\n",
       "    }\n",
       "</style>\n",
       "<table border=\"1\" class=\"dataframe\">\n",
       "  <thead>\n",
       "    <tr style=\"text-align: right;\">\n",
       "      <th>Gesamt</th>\n",
       "      <th>1.0</th>\n",
       "      <th>2.3</th>\n",
       "      <th>3.7</th>\n",
       "      <th>5.0</th>\n",
       "    </tr>\n",
       "    <tr>\n",
       "      <th>NameKlinik</th>\n",
       "      <th></th>\n",
       "      <th></th>\n",
       "      <th></th>\n",
       "      <th></th>\n",
       "    </tr>\n",
       "  </thead>\n",
       "  <tbody>\n",
       "    <tr>\n",
       "      <th>AMEOS Klinikum Hildesheim</th>\n",
       "      <td>95</td>\n",
       "      <td>14</td>\n",
       "      <td>23</td>\n",
       "      <td>39</td>\n",
       "    </tr>\n",
       "    <tr>\n",
       "      <th>AMEOS Klinikum Seepark Geestland</th>\n",
       "      <td>31</td>\n",
       "      <td>7</td>\n",
       "      <td>19</td>\n",
       "      <td>87</td>\n",
       "    </tr>\n",
       "    <tr>\n",
       "      <th>Agaplesion - Diakonieklinikum Rotenburg</th>\n",
       "      <td>107</td>\n",
       "      <td>25</td>\n",
       "      <td>25</td>\n",
       "      <td>140</td>\n",
       "    </tr>\n",
       "    <tr>\n",
       "      <th>DIAKOVERE Henriettenstift</th>\n",
       "      <td>66</td>\n",
       "      <td>30</td>\n",
       "      <td>30</td>\n",
       "      <td>115</td>\n",
       "    </tr>\n",
       "    <tr>\n",
       "      <th>Diana Klinik-Fachklinik für Physikalische Medizin</th>\n",
       "      <td>55</td>\n",
       "      <td>32</td>\n",
       "      <td>81</td>\n",
       "      <td>158</td>\n",
       "    </tr>\n",
       "    <tr>\n",
       "      <th>Eilenriede Klinik Hannover</th>\n",
       "      <td>5</td>\n",
       "      <td>2</td>\n",
       "      <td>4</td>\n",
       "      <td>38</td>\n",
       "    </tr>\n",
       "    <tr>\n",
       "      <th>Elbe Kliniken Stade - Buxtehude, Standort Buxtehude</th>\n",
       "      <td>18</td>\n",
       "      <td>7</td>\n",
       "      <td>11</td>\n",
       "      <td>46</td>\n",
       "    </tr>\n",
       "    <tr>\n",
       "      <th>HEH Herzogin Elisabeth Hospital</th>\n",
       "      <td>20</td>\n",
       "      <td>5</td>\n",
       "      <td>10</td>\n",
       "      <td>95</td>\n",
       "    </tr>\n",
       "    <tr>\n",
       "      <th>HELIOS Klinik Cuxhaven</th>\n",
       "      <td>48</td>\n",
       "      <td>6</td>\n",
       "      <td>7</td>\n",
       "      <td>64</td>\n",
       "    </tr>\n",
       "    <tr>\n",
       "      <th>Heidekreis-Klinikum GmbH - Krankenhaus Walsrode</th>\n",
       "      <td>45</td>\n",
       "      <td>8</td>\n",
       "      <td>7</td>\n",
       "      <td>44</td>\n",
       "    </tr>\n",
       "    <tr>\n",
       "      <th>Helios Kliniken Mittelweser - Krankenhaus Nienburg</th>\n",
       "      <td>48</td>\n",
       "      <td>8</td>\n",
       "      <td>9</td>\n",
       "      <td>59</td>\n",
       "    </tr>\n",
       "    <tr>\n",
       "      <th>KRH Klinikum Agness Karll Laatzen</th>\n",
       "      <td>45</td>\n",
       "      <td>13</td>\n",
       "      <td>21</td>\n",
       "      <td>39</td>\n",
       "    </tr>\n",
       "    <tr>\n",
       "      <th>Klinik Am Zuckerberg</th>\n",
       "      <td>4</td>\n",
       "      <td>2</td>\n",
       "      <td>4</td>\n",
       "      <td>67</td>\n",
       "    </tr>\n",
       "    <tr>\n",
       "      <th>Klinik Fallingbostel</th>\n",
       "      <td>26</td>\n",
       "      <td>13</td>\n",
       "      <td>32</td>\n",
       "      <td>134</td>\n",
       "    </tr>\n",
       "    <tr>\n",
       "      <th>Klinikum Peine gGmbH</th>\n",
       "      <td>44</td>\n",
       "      <td>8</td>\n",
       "      <td>16</td>\n",
       "      <td>77</td>\n",
       "    </tr>\n",
       "    <tr>\n",
       "      <th>Klinikum Wahrendorff</th>\n",
       "      <td>47</td>\n",
       "      <td>9</td>\n",
       "      <td>12</td>\n",
       "      <td>37</td>\n",
       "    </tr>\n",
       "    <tr>\n",
       "      <th>Klinikum Wolfsburg</th>\n",
       "      <td>74</td>\n",
       "      <td>19</td>\n",
       "      <td>32</td>\n",
       "      <td>107</td>\n",
       "    </tr>\n",
       "    <tr>\n",
       "      <th>Krankenhaus St. Martini</th>\n",
       "      <td>11</td>\n",
       "      <td>3</td>\n",
       "      <td>10</td>\n",
       "      <td>39</td>\n",
       "    </tr>\n",
       "    <tr>\n",
       "      <th>Kreiskrankenhaus Buchholz</th>\n",
       "      <td>59</td>\n",
       "      <td>7</td>\n",
       "      <td>8</td>\n",
       "      <td>49</td>\n",
       "    </tr>\n",
       "    <tr>\n",
       "      <th>Kreiskrankenhaus Osterholz</th>\n",
       "      <td>9</td>\n",
       "      <td>1</td>\n",
       "      <td>4</td>\n",
       "      <td>30</td>\n",
       "    </tr>\n",
       "    <tr>\n",
       "      <th>Kreiskrankenhaus Winsen</th>\n",
       "      <td>28</td>\n",
       "      <td>8</td>\n",
       "      <td>4</td>\n",
       "      <td>46</td>\n",
       "    </tr>\n",
       "    <tr>\n",
       "      <th>MediClin Klinikum Soltau</th>\n",
       "      <td>44</td>\n",
       "      <td>19</td>\n",
       "      <td>36</td>\n",
       "      <td>87</td>\n",
       "    </tr>\n",
       "    <tr>\n",
       "      <th>Psychiatrische Klinik Lüneburg</th>\n",
       "      <td>28</td>\n",
       "      <td>6</td>\n",
       "      <td>10</td>\n",
       "      <td>7</td>\n",
       "    </tr>\n",
       "    <tr>\n",
       "      <th>Sophienklinik GmbH</th>\n",
       "      <td>20</td>\n",
       "      <td>8</td>\n",
       "      <td>12</td>\n",
       "      <td>36</td>\n",
       "    </tr>\n",
       "  </tbody>\n",
       "</table>\n",
       "</div>"
      ],
      "text/plain": [
       "Gesamt                                              1.0  2.3  3.7  5.0\n",
       "NameKlinik                                                            \n",
       "AMEOS Klinikum Hildesheim                            95   14   23   39\n",
       "AMEOS Klinikum Seepark Geestland                     31    7   19   87\n",
       "Agaplesion - Diakonieklinikum Rotenburg             107   25   25  140\n",
       "DIAKOVERE Henriettenstift                            66   30   30  115\n",
       "Diana Klinik-Fachklinik für Physikalische Medizin    55   32   81  158\n",
       "Eilenriede Klinik Hannover                            5    2    4   38\n",
       "Elbe Kliniken Stade - Buxtehude, Standort Buxte...   18    7   11   46\n",
       "HEH Herzogin Elisabeth Hospital                      20    5   10   95\n",
       "HELIOS Klinik Cuxhaven                               48    6    7   64\n",
       "Heidekreis-Klinikum GmbH - Krankenhaus Walsrode      45    8    7   44\n",
       "Helios Kliniken Mittelweser - Krankenhaus Nienburg   48    8    9   59\n",
       "KRH Klinikum Agness Karll Laatzen                    45   13   21   39\n",
       "Klinik Am Zuckerberg                                  4    2    4   67\n",
       "Klinik Fallingbostel                                 26   13   32  134\n",
       "Klinikum Peine gGmbH                                 44    8   16   77\n",
       "Klinikum Wahrendorff                                 47    9   12   37\n",
       "Klinikum Wolfsburg                                   74   19   32  107\n",
       "Krankenhaus St. Martini                              11    3   10   39\n",
       "Kreiskrankenhaus Buchholz                            59    7    8   49\n",
       "Kreiskrankenhaus Osterholz                            9    1    4   30\n",
       "Kreiskrankenhaus Winsen                              28    8    4   46\n",
       "MediClin Klinikum Soltau                             44   19   36   87\n",
       "Psychiatrische Klinik Lüneburg                       28    6   10    7\n",
       "Sophienklinik GmbH                                   20    8   12   36"
      ]
     },
     "execution_count": 7,
     "metadata": {},
     "output_type": "execute_result"
    }
   ],
   "source": [
    "df.groupby(['NameKlinik', 'Gesamt']).size().unstack()"
   ]
  },
  {
   "cell_type": "code",
   "execution_count": null,
   "id": "ff447c9a",
   "metadata": {},
   "outputs": [],
   "source": []
  },
  {
   "cell_type": "markdown",
   "id": "064f648b",
   "metadata": {},
   "source": [
    "## Word Cloud"
   ]
  },
  {
   "cell_type": "code",
   "execution_count": 79,
   "id": "8eedbbe9",
   "metadata": {},
   "outputs": [],
   "source": [
    "german_stop_words = stopwords.words('german')"
   ]
  },
  {
   "cell_type": "code",
   "execution_count": 87,
   "id": "75da7d6e",
   "metadata": {
    "deletable": false,
    "editable": false,
    "run_control": {
     "frozen": true
    }
   },
   "outputs": [
    {
     "data": {
      "image/png": "[encoded data removed]",
      "text/plain": [
       "<Figure size 864x576 with 1 Axes>"
      ]
     },
     "metadata": {
      "needs_background": "light"
     },
     "output_type": "display_data"
    }
   ],
   "source": [
    "wordcloud = WordCloud(stopwords=german_stop_words, background_color=\"HotPink\",width=1920, height=1080, max_words=200).generate('Deneme deneme as asma temiz sert as deneme') #width=1920, , height=1080 reviewlist[0]\n",
    "plt.imshow(wordcloud, interpolation=\"bilinear\")\n",
    "plt.axis(\"off\")\n",
    "#plt.savefig(\"img/drhoffman1.png\") #, dpi=300\n",
    "plt.rcParams['figure.figsize'] = [12, 8]\n",
    "plt.show()"
   ]
  },
  {
   "cell_type": "code",
   "execution_count": 89,
   "id": "59b8f961",
   "metadata": {},
   "outputs": [
    {
     "data": {
      "image/png": "[encoded data removed]",
      "text/plain": [
       "<Figure size 864x576 with 1 Axes>"
      ]
     },
     "metadata": {
      "needs_background": "light"
     },
     "output_type": "display_data"
    }
   ],
   "source": [
    "for p in range(len(df[\"NameKlinik\"].unique())):\n",
    "    x, y = np.ogrid[:1000, :1000]\n",
    "    mask = (x - 500) ** 2 + (y - 500) ** 2 > 400 ** 2\n",
    "    mask = 255 * mask.astype(int)\n",
    "    wordcloud = WordCloud(stopwords=german_stop_words,background_color=\"white\",width=1920, height=1080, mask=mask).generate('Lorem ipsum dolor, sit amet consectetur adipisicing elit. Suscipit at iste quidem facere quae doloremque laboriosam alias, totam, laborum neque ipsam earum deserunt non aspernatur corporis. Expedita debitis incidunt unde?')\n",
    "    plt.imshow(wordcloud, extent=(8, 70, 8, 70), interpolation=\"bilinear\")\n",
    "    plt.axis(\"off\")\n",
    "    #plt.savefig('plot.png', dpi=300)\n",
    "    #plt.savefig(\"drhoffmann.png\", format=\"png\")\n",
    "    #plt.savefig(\"imgkreis/k_w_\"+dfsentiment[\"Name der Klinik\"][p]+\".png\", dpi=300)\n",
    "    #plt.savefig(\"wc_klinik1.1/k_w_\"+listeneu[p]+\".png\", dpi=300)\n",
    "    #plt.show()"
   ]
  },
  {
   "cell_type": "code",
   "execution_count": null,
   "id": "9ae4f857",
   "metadata": {},
   "outputs": [],
   "source": []
  },
  {
   "cell_type": "markdown",
   "id": "7370d9d9",
   "metadata": {},
   "source": [
    "## Plot"
   ]
  },
  {
   "cell_type": "code",
   "execution_count": null,
   "id": "fcf4097c",
   "metadata": {},
   "outputs": [],
   "source": [
    "sns.jointplot(x='Zufriedenheit',y='Polarity Stimmung',data=df)"
   ]
  },
  {
   "cell_type": "code",
   "execution_count": null,
   "id": "d4a04271",
   "metadata": {},
   "outputs": [],
   "source": [
    "plt.figure(figsize=(5,4),dpi=100)\n",
    "sns.countplot(x=\"Gesamt\",data=df)"
   ]
  },
  {
   "cell_type": "code",
   "execution_count": null,
   "id": "0ea8d9fd",
   "metadata": {},
   "outputs": [],
   "source": [
    "df.pivot_table(index=['NameKlinik'],columns='Zufriedenheit',aggfunc='size').plot(kind='bar')"
   ]
  },
  {
   "cell_type": "code",
   "execution_count": null,
   "id": "031b928c",
   "metadata": {},
   "outputs": [],
   "source": []
  },
  {
   "cell_type": "code",
   "execution_count": null,
   "id": "8f9e9566",
   "metadata": {},
   "outputs": [],
   "source": [
    "plt.figure(figsize=(10,20))\n",
    "sns.set(rc={\"figure.dpi\":300, 'savefig.dpi':300})\n",
    "sns.countplot(y='NameKlinik',data=df,hue='Gesamt', palette='Set1')"
   ]
  },
  {
   "cell_type": "code",
   "execution_count": null,
   "id": "4d68091a",
   "metadata": {},
   "outputs": [],
   "source": []
  },
  {
   "cell_type": "code",
   "execution_count": null,
   "id": "8bd9e3af",
   "metadata": {},
   "outputs": [],
   "source": [
    "df1 = df[df['NameKlinik'] == 'HEH Herzogin Elisabeth Hospital']\n",
    "df2 = df[df['NameKlinik'] == 'Klinikum Wolfsburg']"
   ]
  },
  {
   "cell_type": "code",
   "execution_count": null,
   "id": "e045d428",
   "metadata": {},
   "outputs": [],
   "source": [
    "#fig, ax =plt.subplots(1,2)\n",
    "plt.figure(figsize=(5,4),dpi=100)\n",
    "sns.countplot(x='NameKlinik',data=df1,hue='Gesamt', palette='Set1')\n",
    "#sns.countplot(ax=ax[1],x='NameKlinik',data=df2,hue='Gesamt', palette='Set1')"
   ]
  },
  {
   "cell_type": "code",
   "execution_count": null,
   "id": "5c860f81",
   "metadata": {},
   "outputs": [],
   "source": []
  },
  {
   "cell_type": "code",
   "execution_count": null,
   "id": "6ab69a12",
   "metadata": {},
   "outputs": [],
   "source": [
    "# pip install pivottablejs"
   ]
  },
  {
   "cell_type": "code",
   "execution_count": null,
   "id": "6acec271",
   "metadata": {},
   "outputs": [],
   "source": [
    "# from pivottablejs import pivot_ui\n",
    "# pivot_ui(df)"
   ]
  },
  {
   "cell_type": "code",
   "execution_count": null,
   "id": "158928a7",
   "metadata": {},
   "outputs": [],
   "source": []
  },
  {
   "cell_type": "code",
   "execution_count": null,
   "id": "78138c24",
   "metadata": {},
   "outputs": [],
   "source": [
    "### Checking for the Distribution of Default ###\n",
    "verteilung= df.groupby('NameKlinik').Zufriedenheit.value_counts(normalize=True)*100\n",
    "verteilung_df = verteilung.to_frame()\n",
    "print(round(verteilung_df,2))"
   ]
  },
  {
   "cell_type": "code",
   "execution_count": null,
   "id": "c9f1d65b",
   "metadata": {},
   "outputs": [],
   "source": [
    "verteilung_df.plot(kind='bar')\n",
    "plt.title('Percentage Distributions by review type')\n",
    "plt.show()"
   ]
  },
  {
   "cell_type": "code",
   "execution_count": null,
   "id": "bbb4ab9f",
   "metadata": {},
   "outputs": [],
   "source": [
    "verteilung_df.head()"
   ]
  },
  {
   "cell_type": "code",
   "execution_count": null,
   "id": "d62cc522",
   "metadata": {},
   "outputs": [],
   "source": []
  },
  {
   "cell_type": "code",
   "execution_count": null,
   "id": "7b4fc666",
   "metadata": {},
   "outputs": [],
   "source": [
    "sns.set(style=\"dark\",palette=\"muted\",font_scale=2) #for backgraound and font\n",
    "sns.distplot(df[\"Gesamt\"],bins=20,kde=False,color=\"y\")\n",
    "plt.tight_layout()"
   ]
  },
  {
   "cell_type": "markdown",
   "id": "4d295584",
   "metadata": {},
   "source": [
    "## Pie Chart"
   ]
  },
  {
   "cell_type": "code",
   "execution_count": null,
   "id": "35465c7f",
   "metadata": {},
   "outputs": [],
   "source": [
    "deneme = df[df['NameKlinik'] == 'AMEOS Klinikum Hildesheim'].groupby(['NameKlinik'])['Gesamt']\n",
    "yenidf = deneme.value_counts().sort_values(ascending=False).to_frame()"
   ]
  },
  {
   "cell_type": "code",
   "execution_count": null,
   "id": "ac705697",
   "metadata": {},
   "outputs": [],
   "source": [
    "deneme"
   ]
  },
  {
   "cell_type": "code",
   "execution_count": null,
   "id": "d279cc0e",
   "metadata": {},
   "outputs": [],
   "source": [
    "yenidf"
   ]
  },
  {
   "cell_type": "code",
   "execution_count": null,
   "id": "3f78c637",
   "metadata": {},
   "outputs": [],
   "source": [
    "data = yenidf.Gesamt.to_list()"
   ]
  },
  {
   "cell_type": "code",
   "execution_count": null,
   "id": "4199c661",
   "metadata": {},
   "outputs": [],
   "source": [
    "plt.pie(data ,labels=['unzufrieden','Sehr zufrieden','zufrieden','wenig'],explode = (0, 0, 0.3, 0), autopct='%1.3f%%',shadow=True, startangle=90)"
   ]
  },
  {
   "cell_type": "code",
   "execution_count": null,
   "id": "afc953b6",
   "metadata": {},
   "outputs": [],
   "source": []
  }
 ],
 "metadata": {
  "kernelspec": {
   "display_name": "Python 3",
   "language": "python",
   "name": "python3"
  },
  "language_info": {
   "codemirror_mode": {
    "name": "ipython",
    "version": 3
   },
   "file_extension": ".py",
   "mimetype": "text/x-python",
   "name": "python",
   "nbconvert_exporter": "python",
   "pygments_lexer": "ipython3",
   "version": "3.8.8"
  }
 },
 "nbformat": 4,
 "nbformat_minor": 5
}
